{
 "cells": [
  {
   "cell_type": "markdown",
   "id": "4066f7f6-5078-4a5e-9a42-adbf8f7ace02",
   "metadata": {},
   "source": [
    "Alphabet Soup Problem"
   ]
  },
  {
   "cell_type": "code",
   "execution_count": 19,
   "id": "fe17f17d-1e80-4272-974f-22720b3e3337",
   "metadata": {},
   "outputs": [
    {
     "name": "stdout",
     "output_type": "stream",
     "text": [
      "deHllloorW\n"
     ]
    }
   ],
   "source": [
    "def alphabet_sort(s):\n",
    "    letter_sort = []\n",
    "    for char in s: #loop through each character of the string\n",
    "        if char.isalpha(): #check if the character is a letter\n",
    "            letter_sort.append(char)\n",
    "    sorted_letter = sorted(letter_sort, key=lambda x: x.lower()) #sort collected letters\n",
    "    return ''.join(sorted_letter)\n",
    "    \n",
    "print(alphabet_sort(\"Hello World\")) "
   ]
  },
  {
   "cell_type": "markdown",
   "id": "8fccefcd-0b63-484c-94fd-a854d284d615",
   "metadata": {},
   "source": [
    "Emoticon Problem"
   ]
  },
  {
   "cell_type": "code",
   "execution_count": 25,
   "id": "66b7eede-045d-47f2-b174-57d31a308776",
   "metadata": {},
   "outputs": [
    {
     "name": "stdout",
     "output_type": "stream",
     "text": [
      "Try to :) and :D insted of being mad or :((\n"
     ]
    }
   ],
   "source": [
    "def emoticon_replace(sentence):\n",
    "    emoticons = { \"smile\" : \":)\", \"grin\" : \":D\",  \"sad\" : \":((\", \"Mad\" : \">:(\" } #emoticon map\n",
    "    words = sentence.split() #split sentence into words\n",
    "    new_words = []\n",
    "    for word in words: \n",
    "        if word in emoticons: #check if word is in emoticon list\n",
    "            new_words.append(emoticons[word]) #replace the word\n",
    "        else: \n",
    "            new_words.append(word) #keep if not on list\n",
    "    return ' '.join(new_words)\n",
    "\n",
    "sentence = \"Try to smile and grin insted of being mad or sad\"\n",
    "print(emoticon_replace(sentence))"
   ]
  },
  {
   "cell_type": "markdown",
   "id": "57dad0cd-d0c4-4596-bfc1-2192ad7e1543",
   "metadata": {},
   "source": [
    "Unpacking List "
   ]
  },
  {
   "cell_type": "code",
   "execution_count": 28,
   "id": "f604c73d-7285-4a86-86f0-d898ac0fc709",
   "metadata": {},
   "outputs": [
    {
     "name": "stdout",
     "output_type": "stream",
     "text": [
      "First:  25\n",
      "Middle:  14 1 7\n",
      "Lasr:  8\n"
     ]
    }
   ],
   "source": [
    "writeyourcodehere = [25, 14, 1, 7, 8]\n",
    "\n",
    "first, *middle, last = writeyourcodehere #unpacking list\n",
    "\n",
    "#print results\n",
    "print(\"First: \",first)\n",
    "print(\"Middle: \",*middle)\n",
    "print(\"Lasr: \", last)"
   ]
  },
  {
   "cell_type": "code",
   "execution_count": null,
   "id": "837023d5-0537-4c12-8bc5-a08f6c4fb5f1",
   "metadata": {},
   "outputs": [],
   "source": []
  }
 ],
 "metadata": {
  "kernelspec": {
   "display_name": "Python [conda env:base] *",
   "language": "python",
   "name": "conda-base-py"
  },
  "language_info": {
   "codemirror_mode": {
    "name": "ipython",
    "version": 3
   },
   "file_extension": ".py",
   "mimetype": "text/x-python",
   "name": "python",
   "nbconvert_exporter": "python",
   "pygments_lexer": "ipython3",
   "version": "3.13.5"
  }
 },
 "nbformat": 4,
 "nbformat_minor": 5
}
